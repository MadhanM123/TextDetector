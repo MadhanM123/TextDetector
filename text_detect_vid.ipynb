{
 "cells": [
  {
   "cell_type": "markdown",
   "metadata": {},
   "source": [
    "Imports\n"
   ]
  },
  {
   "cell_type": "code",
   "execution_count": null,
   "metadata": {},
   "outputs": [],
   "source": [
    "from imutils.video import VideoStream\n",
    "from imutils.video import FPS\n",
    "from imutils.object_detection import non_max_suppression\n",
    "\n",
    "import numpy as np\n",
    "import argparse\n",
    "import time\n",
    "import cv2\n",
    "import imutils"
   ]
  },
  {
   "cell_type": "markdown",
   "metadata": {},
   "source": [
    "Minimum Confidence"
   ]
  },
  {
   "cell_type": "code",
   "execution_count": null,
   "metadata": {},
   "outputs": [],
   "source": [
    "min_conf = 0.5"
   ]
  },
  {
   "cell_type": "markdown",
   "metadata": {},
   "source": [
    "Video Path"
   ]
  },
  {
   "cell_type": "code",
   "execution_count": null,
   "metadata": {},
   "outputs": [],
   "source": [
    "vidPath = \"\""
   ]
  },
  {
   "cell_type": "markdown",
   "metadata": {},
   "source": [
    "Prediction Function"
   ]
  },
  {
   "cell_type": "code",
   "execution_count": null,
   "metadata": {},
   "outputs": [],
   "source": [
    "def decode_pred(scores, geo):\n",
    "    (numR, numC) = scores.shape[2:4]\n",
    "    rects = []\n",
    "    conf = []\n",
    "\n",
    "    for y in range(0, numR):\n",
    "        scoresData = scores[0, 0, y]\n",
    "        x0Data = geo[0, 0, y]\n",
    "        x1Data = geo[0, 1, y]\n",
    "        x2Data = geo[0, 2, y]\n",
    "        x3Data = geo[0, 3, y]\n",
    "        angleData = geo[0, 4, y]\n",
    "\n",
    "        for x in range(0, numC):\n",
    "            if scoresData[x] < min_conf:\n",
    "                continue\n",
    "\n",
    "            (offsetX, offsetY) = (4.0 * x, 4.0 * y)\n",
    "\n",
    "            angle = angleData[x]\n",
    "            cos = np.cos(angle)\n",
    "            sin = np.sin(angle)\n",
    "\n",
    "            h = x0Data[x] + x2Data[x]\n",
    "            w = x1Data[x] + x3Data[x]\n",
    "\n",
    "            endX = int(offsetX + (cos * x1Data[x]) + (sin * x2Data[x]))\n",
    "            endY = int(offsetY - (sin * x1Data[x]) + (cos * x2Data[x]))\n",
    "\n",
    "            startX = int(endX - w)\n",
    "            startY = int(endY - h)\n",
    "\n",
    "            rects.append((startX, startY, endX, endY))\n",
    "            conf.append(scoresData[x])"
   ]
  },
  {
   "cell_type": "markdown",
   "metadata": {},
   "source": [
    "Parsing Args"
   ]
  },
  {
   "cell_type": "code",
   "execution_count": null,
   "metadata": {},
   "outputs": [],
   "source": [
    "ap = argparse.ArgumentParser()\n",
    "\n",
    "ap.add_argument(\"-east\", \"--east\", type=str, required=True, help=\"path to input EAST text detector\")\n",
    "ap.add_argument(\"-v\", \"--video\", type=str, help=\"path to optinal input video file\")\n",
    "ap.add_argument(\"-c\", \"--min-confidence\", type=float, default=0.5, help=\"minimum probability required to inspect a region\")\n",
    "ap.add_argument(\"-w\", \"--width\", type=int, default=320, help=\"resized image width (should be multiple of 32)\")\n",
    "ap.add_argument(\"-e\", \"--height\", type=int, default=320, help=\"resized image height (should be multiple of 32)\")\n",
    "\n",
    "args = vars(ap.parse_args(args=[]))"
   ]
  },
  {
   "cell_type": "markdown",
   "metadata": {},
   "source": [
    "Initializations"
   ]
  },
  {
   "cell_type": "code",
   "execution_count": null,
   "metadata": {},
   "outputs": [],
   "source": [
    "(W, H) = (None, None)\n",
    "(newW, newH) = (args[\"width\"], args[\"height\"])\n",
    "(rW, rH) = (None, None)\n",
    "\n",
    "layerNames = [\"feature_fusion/Conv_7/Sigmoid\", \"feature_fusion/concat_3\"]\n",
    "\n",
    "print(\"[INFO] loading EAST\")\n",
    "net = cv2.dnn.readNet(\"frozen_east_text_detection.pb\")"
   ]
  },
  {
   "cell_type": "markdown",
   "metadata": {},
   "source": [
    "Video Stream"
   ]
  },
  {
   "cell_type": "code",
   "execution_count": null,
   "metadata": {},
   "outputs": [],
   "source": [
    "if vidPath == \"\":\n",
    "    print(\"[INFO] Starting WebCam\")\n",
    "    vs = VideoStream(src = 0).start()\n",
    "else:\n",
    "    va = cv2.VideoCapture(args[\"video\"])\n",
    "\n",
    "fps = FPS().start()\n",
    "    "
   ]
  },
  {
   "cell_type": "markdown",
   "metadata": {},
   "source": [
    "Looping Video Frames"
   ]
  },
  {
   "cell_type": "code",
   "execution_count": null,
   "metadata": {},
   "outputs": [],
   "source": [
    "while True:\n",
    "    frame = vs.read()\n",
    "    frame = frame[1] if args.get(\"video\", False) else frame\n",
    "\n",
    "    if frame is None:\n",
    "        break\n",
    "\n",
    "    frame = imutils.resize(frame, width = 1000)\n",
    "    orig = frame.copy()\n",
    "\n",
    "    if W is None or H is None:\n",
    "        (H, W) = frame.shape[:2]\n",
    "        rW = W / float(newW)\n",
    "        rH = H/ float(newH)\n",
    "\n",
    "    frame = cv2.resize(frame, (newW, newH))"
   ]
  }
 ],
 "metadata": {
  "language_info": {
   "name": "python"
  }
 },
 "nbformat": 4,
 "nbformat_minor": 2
}
