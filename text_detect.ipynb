{
 "cells": [
  {
   "cell_type": "markdown",
   "metadata": {},
   "source": [
    "Imports"
   ]
  },
  {
   "cell_type": "code",
   "execution_count": 11,
   "metadata": {},
   "outputs": [],
   "source": [
    "import numpy as np\n",
    "import argparse\n",
    "import time\n",
    "import cv2\n",
    "\n",
    "from imutils.object_detection import non_max_suppression"
   ]
  },
  {
   "cell_type": "markdown",
   "metadata": {},
   "source": [
    "Argument Parser"
   ]
  },
  {
   "cell_type": "code",
   "execution_count": 13,
   "metadata": {},
   "outputs": [],
   "source": [
    "ap = argparse.ArgumentParser()\n",
    "\n",
    "ap.add_argument(\"-i\", \"--image\", type = str, help = \"path to input image\")\n",
    "ap.add_argument(\"-east\", \"--east\", type = str, help = \"path to input EAST text detector\")\n",
    "ap.add_argument(\"-c\", \"--min-confidence\", type = float, default = 0.5, help = \"minimum probability required to inspect region\")\n",
    "ap.add_argument(\"-w\", \"--width\", type = int, default = 320, help = \"resized image width(multiple of 32)\")\n",
    "ap.add_argument(\"-\", \"--height\", type = int, default = 320, help = \"resized image height(multiple of 32)\")\n",
    "\n",
    "args = vars(ap.parse_args(args=[]))\n"
   ]
  },
  {
   "cell_type": "markdown",
   "metadata": {},
   "source": [
    "Loading Input JPG and getting dimensions"
   ]
  },
  {
   "cell_type": "code",
   "execution_count": 14,
   "metadata": {},
   "outputs": [],
   "source": [
    "img = cv2.imread(\"tennis.jpg\")\n",
    "orig = img.copy()\n",
    "(h, w) = img.shape[:2]"
   ]
  },
  {
   "cell_type": "markdown",
   "metadata": {},
   "source": [
    "Setting new width and getting ratio"
   ]
  },
  {
   "cell_type": "code",
   "execution_count": 15,
   "metadata": {},
   "outputs": [],
   "source": [
    "newW, newH = (args[\"width\"], args[\"height\"])\n",
    "rW = w / float(newW)\n",
    "rH = h / float(newH)"
   ]
  },
  {
   "cell_type": "markdown",
   "metadata": {},
   "source": [
    "Resizing image and getting final dimensions"
   ]
  },
  {
   "cell_type": "code",
   "execution_count": 16,
   "metadata": {},
   "outputs": [],
   "source": [
    "img = cv2.resize(img, (newW, newH))\n",
    "(h, w) = img.shape[:2]"
   ]
  },
  {
   "cell_type": "markdown",
   "metadata": {},
   "source": [
    "Defining output layers"
   ]
  },
  {
   "cell_type": "code",
   "execution_count": 17,
   "metadata": {},
   "outputs": [],
   "source": [
    "layerNames = [\"feature_fusion/Conv_7/Sigmoid\", \"feature_fusion/concat_3\"]\n",
    "#First layer is output sigmoid activation\n",
    "#Second layer is output feature map"
   ]
  },
  {
   "cell_type": "markdown",
   "metadata": {},
   "source": [
    "Loading and Feeding EAST Text Detector"
   ]
  },
  {
   "cell_type": "code",
   "execution_count": 18,
   "metadata": {},
   "outputs": [
    {
     "name": "stdout",
     "output_type": "stream",
     "text": [
      "[INFO] loading EAST Text Detector\n",
      "[INFO] text detection took 0.348351 seconds\n"
     ]
    }
   ],
   "source": [
    "print(\"[INFO] loading EAST Text Detector\")\n",
    "net = cv2.dnn.readNet(\"frozen_east_text_detection.pb\")\n",
    "\n",
    "blob = cv2.dnn.blobFromImage(img, 1.0, (w, h), (123.68, 116.78, 103.94), swapRB = True, crop = False)\n",
    "start = time.time()\n",
    "net.setInput(blob)\n",
    "(scores, geo) = net.forward(layerNames)\n",
    "end = time.time()\n",
    "\n",
    "print(\"[INFO] text detection took {:.6f} seconds\".format(end - start))"
   ]
  },
  {
   "cell_type": "markdown",
   "metadata": {},
   "source": [
    "Grabbing scores dimensions and initalizing boxes/scores"
   ]
  },
  {
   "cell_type": "code",
   "execution_count": 19,
   "metadata": {},
   "outputs": [],
   "source": [
    "numR, numC = scores.shape[2:4]\n",
    "\n",
    "rects = []\n",
    "confidences = []"
   ]
  },
  {
   "cell_type": "markdown",
   "metadata": {},
   "source": [
    "Looping over boxes"
   ]
  },
  {
   "cell_type": "code",
   "execution_count": 20,
   "metadata": {},
   "outputs": [
    {
     "ename": "TypeError",
     "evalue": "list.append() takes exactly one argument (4 given)",
     "output_type": "error",
     "traceback": [
      "\u001b[1;31m---------------------------------------------------------------------------\u001b[0m",
      "\u001b[1;31mTypeError\u001b[0m                                 Traceback (most recent call last)",
      "\u001b[1;32mc:\\Users\\marag\\OneDrive\\Documents\\TextDetector\\text_detect.ipynb Cell 18\u001b[0m line \u001b[0;36m2\n\u001b[0;32m     <a href='vscode-notebook-cell:/c%3A/Users/marag/OneDrive/Documents/TextDetector/text_detect.ipynb#X24sZmlsZQ%3D%3D?line=24'>25</a>\u001b[0m startX \u001b[39m=\u001b[39m \u001b[39mint\u001b[39m(endX \u001b[39m-\u001b[39m w)\n\u001b[0;32m     <a href='vscode-notebook-cell:/c%3A/Users/marag/OneDrive/Documents/TextDetector/text_detect.ipynb#X24sZmlsZQ%3D%3D?line=25'>26</a>\u001b[0m startY \u001b[39m=\u001b[39m \u001b[39mint\u001b[39m(endY \u001b[39m-\u001b[39m h)\n\u001b[1;32m---> <a href='vscode-notebook-cell:/c%3A/Users/marag/OneDrive/Documents/TextDetector/text_detect.ipynb#X24sZmlsZQ%3D%3D?line=27'>28</a>\u001b[0m rects\u001b[39m.\u001b[39;49mappend(startX, startY, endX, endY)\n\u001b[0;32m     <a href='vscode-notebook-cell:/c%3A/Users/marag/OneDrive/Documents/TextDetector/text_detect.ipynb#X24sZmlsZQ%3D%3D?line=28'>29</a>\u001b[0m confidences\u001b[39m.\u001b[39mappend(scoresData[x])\n",
      "\u001b[1;31mTypeError\u001b[0m: list.append() takes exactly one argument (4 given)"
     ]
    }
   ],
   "source": [
    "for y in range(0, numR):\n",
    "    scoresData = scores[0, 0, y]\n",
    "    x0Data = geo[0, 0, y]\n",
    "    x1Data = geo[0, 1, y]\n",
    "    x2Data = geo[0, 2, y]\n",
    "    x3Data = geo[0, 3, y]\n",
    "    angleData = geo[0, 4, y]\n",
    "\n",
    "    for x in range(0, numC):\n",
    "        if scoresData[x] < args[\"min_confidence\"]:\n",
    "            continue\n",
    "\n",
    "        (offsetX, offsetY) = (4.0 * x, 4.0 * y)\n",
    "\n",
    "        angle = angleData[x]\n",
    "        cos = np.cos(angle)\n",
    "        sin = np.sin(angle)\n",
    "\n",
    "        h = x0Data[x] + x2Data[x]\n",
    "        w = x1Data[x] + x3Data[x]\n",
    "\n",
    "        endX = int(offsetX + (cos * x1Data[x]) + (sin * x2Data[x]))\n",
    "        endY = int(offsetY - (sin * x1Data[x]) + (cos * x2Data[x]))\n",
    "\n",
    "        startX = int(endX - w)\n",
    "        startY = int(endY - h)\n",
    "\n",
    "        rects.append((startX, startY, endX, endY))\n",
    "        confidences.append(scoresData[x])"
   ]
  },
  {
   "cell_type": "markdown",
   "metadata": {},
   "source": [
    "Applying Non-Maximal Suppression"
   ]
  },
  {
   "cell_type": "code",
   "execution_count": null,
   "metadata": {},
   "outputs": [],
   "source": [
    "boxes = non_max_suppression(np.array(rects), probs = confidences)\n",
    "\n",
    "for(startX, startY, endX, endY) in boxes:\n",
    "    startX = int(startX * rW)\n",
    "    startY = int(startY * rH)\n",
    "    endX = int(endX * rW)\n",
    "    endY = int(endY * rH)\n",
    "\n",
    "    cv2.rectangle(orig, (startX, startY), (endX, endY), (0, 255, 0), 2)\n",
    "\n",
    "cv2.imshow(\"Text Detection\", orig)\n",
    "cv2.waitKey(0)"
   ]
  }
 ],
 "metadata": {
  "kernelspec": {
   "display_name": "Python 3",
   "language": "python",
   "name": "python3"
  },
  "language_info": {
   "codemirror_mode": {
    "name": "ipython",
    "version": 3
   },
   "file_extension": ".py",
   "mimetype": "text/x-python",
   "name": "python",
   "nbconvert_exporter": "python",
   "pygments_lexer": "ipython3",
   "version": "3.11.1"
  }
 },
 "nbformat": 4,
 "nbformat_minor": 2
}
